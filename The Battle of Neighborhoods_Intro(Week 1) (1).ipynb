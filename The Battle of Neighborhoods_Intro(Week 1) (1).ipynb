{
 "cells": [
  {
   "cell_type": "markdown",
   "metadata": {
    "collapsed": true
   },
   "source": [
    "Coursera Capstone Project"
   ]
  },
  {
   "cell_type": "markdown",
   "metadata": {},
   "source": [
    "The Battle of Neighborhoods (Week 1)"
   ]
  },
  {
   "cell_type": "markdown",
   "metadata": {},
   "source": [
    " Part 1 : Introduction and Data Sections"
   ]
  },
  {
   "cell_type": "code",
   "execution_count": 3,
   "metadata": {},
   "outputs": [
    {
     "name": "stdout",
     "output_type": "stream",
     "text": [
      "Collecting folium\n",
      "  Downloading folium-0.12.0-py2.py3-none-any.whl (94 kB)\n",
      "\u001b[K     |████████████████████████████████| 94 kB 5.7 MB/s  eta 0:00:01\n",
      "\u001b[?25hCollecting branca>=0.3.0\n",
      "  Downloading branca-0.4.2-py3-none-any.whl (24 kB)\n",
      "Requirement already satisfied: numpy in /opt/conda/envs/Python-3.7-main/lib/python3.7/site-packages (from folium) (1.18.5)\n",
      "Requirement already satisfied: jinja2>=2.9 in /opt/conda/envs/Python-3.7-main/lib/python3.7/site-packages (from folium) (2.11.2)\n",
      "Requirement already satisfied: requests in /opt/conda/envs/Python-3.7-main/lib/python3.7/site-packages (from folium) (2.24.0)\n",
      "Requirement already satisfied: MarkupSafe>=0.23 in /opt/conda/envs/Python-3.7-main/lib/python3.7/site-packages (from jinja2>=2.9->folium) (1.1.1)\n",
      "Requirement already satisfied: urllib3!=1.25.0,!=1.25.1,<1.26,>=1.21.1 in /opt/conda/envs/Python-3.7-main/lib/python3.7/site-packages (from requests->folium) (1.25.9)\n",
      "Requirement already satisfied: certifi>=2017.4.17 in /opt/conda/envs/Python-3.7-main/lib/python3.7/site-packages (from requests->folium) (2020.12.5)\n",
      "Requirement already satisfied: chardet<4,>=3.0.2 in /opt/conda/envs/Python-3.7-main/lib/python3.7/site-packages (from requests->folium) (3.0.4)\n",
      "Requirement already satisfied: idna<3,>=2.5 in /opt/conda/envs/Python-3.7-main/lib/python3.7/site-packages (from requests->folium) (2.9)\n",
      "Installing collected packages: branca, folium\n",
      "Successfully installed branca-0.4.2 folium-0.12.0\n",
      "Note: you may need to restart the kernel to use updated packages.\n"
     ]
    }
   ],
   "source": [
    "pip install folium"
   ]
  },
  {
   "cell_type": "code",
   "execution_count": 5,
   "metadata": {},
   "outputs": [
    {
     "name": "stdout",
     "output_type": "stream",
     "text": [
      "Libraries imported.\n"
     ]
    }
   ],
   "source": [
    "import numpy as np\n",
    "import pandas as pd\n",
    "pd.set_option('display.max_columns', None)\n",
    "pd.set_option('display.max_rows', None)\n",
    "\n",
    "#!conda install -c conda-forge geopy --yes\n",
    "from geopy.geocoders import Nominatim\n",
    "import urllib.request\n",
    "import json\n",
    "from bs4 import BeautifulSoup\n",
    "from urllib.request import urlopen\n",
    "import requests\n",
    "from pandas.io.json import json_normalize\n",
    "\n",
    "import matplotlib.cm as cm\n",
    "import matplotlib.colors as colors\n",
    "# Matplotlib and associated plotting modules\n",
    "import matplotlib.cm as cm\n",
    "import matplotlib.pyplot as plt\n",
    "import matplotlib.colors as colors\n",
    "%matplotlib inline\n",
    "from sklearn.cluster import KMeans\n",
    "\n",
    "#!conda install -c conda-forge folium=0.5.0 --yes\n",
    "import folium\n",
    "\n",
    "print('Libraries imported.')"
   ]
  },
  {
   "cell_type": "markdown",
   "metadata": {},
   "source": [
    "Fetching package metadata .............\n",
    "Solving package specifications: .\n",
    "\n",
    "All Requested package already installed.\n",
    "Packages in environment at /opt/conda/envs/DSX-Python35:\n",
    "\n",
    "folium                    0.5.0                      py_0    conda-forge\n",
    "Libraries imported."
   ]
  },
  {
   "cell_type": "markdown",
   "metadata": {},
   "source": [
    "Coursera Capstone - REPORT CONTENT\n",
    "\n",
    "1. Introduction Section : ⁃ Discussion of the business problem and the interested audience in this project.\n",
    "2. Data Section:\n",
    "⁃ Description of the data that will be used to solve the problem and the sources.\n",
    "3. Methodology section ⁃ Discussion and description of exploratory data analysis carried out, any inferential statistical testing performed, and if any machine learnings were used establishing the strategy and purposes.\n",
    "4. Results section ⁃ Discussion of the results.\n",
    "5. Discussion section ⁃ Elaboration and discussion on any observations noted and any recommendations suggested based on the results.\n",
    "6. Conclusion section ⁃ Report Conclusion."
   ]
  },
  {
   "cell_type": "markdown",
   "metadata": {},
   "source": [
    "1. Introduction Section :\n",
    "\n",
    "Discussion of the business problem and the audience who would be interested in this project.\n",
    "\n",
    "Description of the Problem and Background\n",
    "\n",
    "Scenario:\n",
    "\n",
    "I am a data scientist residing in Downtown Singapore. I currently live within walking distance to Downtown Telok Ayer MRT metro station and I enjoy many ammenities and venues in the area, such as various international cousine restaurants, cafes, food shops and entertainment. I have been offered a great opportunity to work for a leader firm in Manhattan, NY. I am very excited and I want to use this opportunity to practice my learnings in Coursera in order to answer relevant questions arisen. The key question is : How can I find a convenient and enjoyable place similar to mine now in Singapore? Certainly, I can use available real estate apps and Google but the idea is to use and apply myself the learned tools during the course. In order to make a comparison and evaluation of the rental options in Manhattan NY, I must set some basis, therefore the apartment in Manhattan must meet the following demands:\n",
    "\n",
    "-apartment must be 2 or 3 bedrooms\n",
    "-desired location is near a metro station in the Manhattan area and within 1.0 mile (1.6 km) radius\n",
    "-price of rent not exceed $7,000 per month\n",
    "-top ammenities in the selected neighborhood shall be similar to current residence\n",
    "-desirable to have venues such as coffee shops, restaurants Asian Thai, wine stores, gym and food shops\n",
    "-as a reference, I have included a map of venues near current residence in Singapore.\n",
    "\n",
    "Business Problem:\n",
    "\n",
    "The challenge is to find a suitable apartment for rent in Manhattan NY that complies with the demands on location, price and venues. The data required to resolve this challenge is described in the following section 2, below.\n",
    "\n",
    "Interested Audience\n",
    "\n",
    "I believe this is a relevant challenge with valid questions for anyone moving to other large city in US, EU or Asia. The same methodology can be applied in accordance to demands as applicable. This case is also applicable for anyone interested in exploring starting or locating a new business in any city. Lastly, it can also serve as a good practical exercise to develop Data Science skills."
   ]
  },
  {
   "cell_type": "markdown",
   "metadata": {},
   "source": [
    "2. Data Section:\n",
    "\n",
    "Description of the data and its sources that will be used to solve the problem\n",
    "\n",
    "Description of the Data:\n",
    "\n",
    "The following data is required to answer the issues of the problem:\n",
    "\n",
    "-List of Boroughs and neighborhoods of Manhattan with their geodata (latitud and longitud)\n",
    "-List of Subway metro stations in Manhattan with their address location\n",
    "-List of apartments for rent in Manhattan area with their addresses and price\n",
    "-Preferably, a list of apartment for rent with additional information, such as price, address, area, # of beds, etc\n",
    "-Venues for each Manhattan neighborhood ( than can be clustered)\n",
    "-Venues for subway metro stations, as needed\n",
    "\n",
    "How the data will be used to solve the problem\n",
    "\n",
    "The data will be used as follows:\n",
    "\n",
    "-Use Foursquare and geopy data to map top 10 venues for all Manhattan neighborhoods and clustered in groups ( as per Course LAB)\n",
    "-Use foursquare and geopy data to map the location of subway metro stations , separately and on top of the above clustered map in order to be able to   identify the venues and ammenities near each metro station, or explore each subway location separately\n",
    "-Use Foursquare and geopy data to map the location of rental places, in some form, linked to the subway locations.\n",
    "-create a map that depicts, for instance, the average rental price per square ft, around a radious of 1.0 mile (1.6 km) around each subway station -     or a similar metrics. I will be able to quickly point to the popups to know the relative price per subway area.\n",
    "-Addresses from rental locations will be converted to geodata( lat, long) using Geopy-distance and Nominatim.\n",
    "-Data will be searched in open data sources if available, from real estate sites if open to reading, libraries or other government agencies such as  \n",
    " Metro New York MTA, etc.\n",
    " \n",
    " \n",
    "The procesing of these DATA will allow to answer the key questions to make a decision:\n",
    "\n",
    "-what is the cost of rent (per square ft) around a mile radius from each subway metro station?\n",
    "-what is the area of Manhattan with best rental pricing that meets criteria established?\n",
    "-What is the distance from work place ( Park Ave and 53 rd St) and the tentative future home?\n",
    "-What are the venues of the two best places to live? How the prices compare?\n",
    "-How venues distribute among Manhattan neighborhoods and around metro stations?\n",
    "-Are there tradeoffs between size and price and location?\n",
    "-Any other interesting statistical data findings of the real estate and overall data."
   ]
  },
  {
   "cell_type": "markdown",
   "metadata": {},
   "source": [
    "Reference of venues around current residence in Singapore for comparison to Manhattan place"
   ]
  },
  {
   "cell_type": "markdown",
   "metadata": {},
   "source": [
    "Download and Explore Dataset\n",
    "\n",
    "Download and Explore Dataset Neighborhood has a total of 5 boroughs and 306 neighborhoods. In order to segement the neighborhoods and explore them, we will essentially need a dataset that contains the 5 boroughs and the neighborhoods that exist in each borough as well as the the latitude and logitude coordinates of each neighborhood.\n",
    "\n",
    "Luckily, this dataset exists for free on the web. Feel free to try to find this dataset on your own, but here is the link to the dataset: https://geo.nyu.edu/catalog/nyu_2451_34572\n",
    "\n",
    "For your convenience, I downloaded the files and placed it on the server, so you can simply run a wget command and access the data. So let's go ahead and do that."
   ]
  }
 ],
 "metadata": {
  "kernelspec": {
   "display_name": "Python 3.7",
   "language": "python",
   "name": "python3"
  },
  "language_info": {
   "codemirror_mode": {
    "name": "ipython",
    "version": 3
   },
   "file_extension": ".py",
   "mimetype": "text/x-python",
   "name": "python",
   "nbconvert_exporter": "python",
   "pygments_lexer": "ipython3",
   "version": "3.7.9"
  }
 },
 "nbformat": 4,
 "nbformat_minor": 1
}
